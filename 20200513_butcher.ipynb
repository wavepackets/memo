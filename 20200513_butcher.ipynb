{
 "cells": [
  {
   "cell_type": "markdown",
   "metadata": {},
   "source": [
    "# Section 20. The Euler method (cont'd)\n",
    "\n",
    "from Chapter 2. Numerical Differentail Equation Methods in Butcher \"Numerical methods for ordinary differential equations,\" 2nd ed., Wiley, 2008.\n",
    "\n",
    "$$\n",
    "\\newcommand{\\bv}[1]{\\pmb{#1}}\n",
    "\\newcommand{\\df}[2]{\\frac{d #1}{d #2}}\n",
    "\\newcommand{\\pf}[2]{\\frac{\\partial #1}{\\partial #2}}\n",
    "%\n",
    "\\newcommand{\\pr}[1]{\\!\\left( #1 \\right)}\n",
    "%\n",
    "\\newcommand{\\norm}[1]{\\left\\Vert #1 \\right\\Vert}\n",
    "%\n",
    "\\newcommand{\\pmat}[1]{\\begin{pmatrix} #1 \\end{pmatrix}} % \\pmat{1 & 2 \\\\ 3 & 4}\n",
    "\\newcommand{\\mat}[1]{\\begin{matrix} #1 \\end{matrix}}\n",
    "%\n",
    "\\newcommand{\\butcher}[2]{%\n",
    "\\begin{array}{c|cccccccc} #1 \\\\ \\hline & #2 \\end{array}%\n",
    "}\n",
    "$$"
   ]
  },
  {
   "cell_type": "code",
   "execution_count": 1,
   "metadata": {},
   "outputs": [],
   "source": [
    "import numpy as np\n",
    "import matplotlib.pyplot as plt\n",
    "%matplotlib inline\n",
    "\n",
    "from numba import njit, jit"
   ]
  },
  {
   "cell_type": "code",
   "execution_count": 2,
   "metadata": {},
   "outputs": [],
   "source": [
    "class BaseSolver:\n",
    "    def __init__(self, func, xlim, y0, n_steps, **kwargs):\n",
    "        self.func = func\n",
    "        self.xlim = xlim\n",
    "        self.y0   = y0\n",
    "        self.n_steps = n_steps\n",
    "    \n",
    "    def solve(self):\n",
    "        self.x, self.y = self._solve(\n",
    "            func = self.func,\n",
    "            xlim = self.xlim,\n",
    "            y0   = self.y0,\n",
    "            n_steps = self.n_steps\n",
    "        )\n",
    "        return self"
   ]
  },
  {
   "cell_type": "code",
   "execution_count": 3,
   "metadata": {},
   "outputs": [],
   "source": [
    "class Euler(BaseSolver):\n",
    "    @staticmethod\n",
    "    @njit\n",
    "    def _solve(func, xlim, y0, n_steps):\n",
    "        x = np.linspace(xlim[0], xlim[1], int(n_steps)).astype(np.float64)\n",
    "        y = np.zeros(shape=(len(x), len(y0)), dtype=np.float64)\n",
    "        y[0,:] = y0\n",
    "        h = np.median(np.diff(x))\n",
    "        \n",
    "        for i in range(1, len(x)):\n",
    "            y[i,:] = y[i-1,:] + h*func(x[i-1], y[i-1,:])\n",
    "            \n",
    "        return x, y"
   ]
  },
  {
   "cell_type": "markdown",
   "metadata": {},
   "source": [
    "#### Butcher tableau\n",
    "$h = x_{n} - x_{n-1}$とすると，2段のRunge-Kutta methodは一般に次のようにかける．\n",
    "$$\n",
    "\\begin{align*}\n",
    "Y_2 &= y_{n-1} + a_{21} \\cdot h f(x_{n-1}, y_{n-1}) \\\\\n",
    "y_n &= y_{n-1} + b_1 \\cdot h f(x_{n-1}, y_{n-1}) + b_2 \\cdot h f(x_{n-1}+c_2 h, Y_2)\n",
    "\\end{align*}\n",
    "$$\n",
    "これを，次のButcher tableauで表す．\n",
    "$$\n",
    "\\butcher{0 \\\\ c_2 & a_{21} }{b_1 & b_2}\n",
    "$$\n",
    "\n",
    "#### RK21 (Trapezoidal rule)\n",
    "$$\n",
    "\\butcher{0 \\\\ c_2 & a_{21} }{b_1 & b_2}\n",
    "=\n",
    "\\butcher{0 \\\\ 1 & 1 }{\\frac{1}{2} & \\frac{1}{2}}\n",
    "$$\n",
    "\n",
    "#### RK22 (Mid-point rule)\n",
    "$$\n",
    "\\butcher{0 \\\\ c_2 & a_{21} }{b_1 & b_2}\n",
    "=\n",
    "\\butcher{0 \\\\ \\frac{1}{2} & \\frac{1}{2} }{0 & 1}\n",
    "$$"
   ]
  },
  {
   "cell_type": "code",
   "execution_count": 4,
   "metadata": {},
   "outputs": [],
   "source": [
    "class RK21(BaseSolver):\n",
    "    @staticmethod\n",
    "    @njit\n",
    "    def _solve(func, xlim, y0, n_steps):\n",
    "        x = np.linspace(xlim[0], xlim[1], int(n_steps)).astype(np.float64)\n",
    "        y = np.zeros(shape=(len(x), len(y0)), dtype=np.float64)\n",
    "        y[0,:] = y0\n",
    "        h = np.median(np.diff(x))\n",
    "        \n",
    "        c2, a21 = 1, 1\n",
    "        b1, b2 = 0.5, 0.5\n",
    "        \n",
    "        for i in range(1, len(x)):\n",
    "            xold, xnew = x[i-1], x[i]\n",
    "            yold = y[i-1,:]\n",
    "            \n",
    "            Y2 = yold + a21*h*func(xold, yold)\n",
    "            ynew = yold + b1*h*func(xold, yold) + b2*h*func(xold+c2*h, Y2)\n",
    "            \n",
    "            y[i,:] = ynew\n",
    "        return x, y"
   ]
  },
  {
   "cell_type": "code",
   "execution_count": 5,
   "metadata": {},
   "outputs": [],
   "source": [
    "class RK22(BaseSolver):\n",
    "    @staticmethod\n",
    "    @njit\n",
    "    def _solve(func, xlim, y0, n_steps):\n",
    "        x = np.linspace(xlim[0], xlim[1], int(n_steps)).astype(np.float64)\n",
    "        y = np.zeros(shape=(len(x), len(y0)), dtype=np.float64)\n",
    "        y[0,:] = y0\n",
    "        h = np.median(np.diff(x))\n",
    "        \n",
    "        c2, a21 = 0.5, 0.5\n",
    "        b1, b2 = 0, 1\n",
    "        \n",
    "        for i in range(1, len(x)):\n",
    "            xold, xnew = x[i-1], x[i]\n",
    "            yold = y[i-1,:]\n",
    "            \n",
    "            Y2 = yold + a21*h*func(xold, yold)\n",
    "            ynew = yold + b1*h*func(xold, yold) + b2*h*func(xold+c2*h, Y2)\n",
    "            \n",
    "            y[i,:] = ynew\n",
    "        return x, y"
   ]
  },
  {
   "cell_type": "markdown",
   "metadata": {},
   "source": [
    "#### RK31\n",
    "$$\n",
    "\\butcher{0 \\\\ c_2 & a_{21} \\\\ c_3 & a_{31} & a_{32}}{b_1 & b_2 & b_3}\n",
    "=\n",
    "\\butcher{0 \\\\ \\frac{2}{3} & \\frac{2}{3} \\\\ \\frac{2}{3} & \\frac{1}{3} & \\frac{1}{3}}{\\frac{1}{4} & 0 & \\frac{3}{4}}\n",
    "$$\n",
    "\n",
    "#### RK32\n",
    "$$\n",
    "\\butcher{0 \\\\ c_2 & a_{21} \\\\ c_3 & a_{31} & a_{32}}{b_1 & b_2 & b_3}\n",
    "=\n",
    "\\butcher{0 \\\\ \\frac{1}{2} & \\frac{1}{2} \\\\ 1 & -1 & 2}{\\frac{1}{6} & \\frac{2}{3} & \\frac{1}{6}}\n",
    "$$"
   ]
  },
  {
   "cell_type": "code",
   "execution_count": 6,
   "metadata": {},
   "outputs": [],
   "source": [
    "class RK31(BaseSolver):\n",
    "    @staticmethod\n",
    "    @njit\n",
    "    def _solve(func, xlim, y0, n_steps):\n",
    "        x = np.linspace(xlim[0], xlim[1], int(n_steps)).astype(np.float64)\n",
    "        y = np.zeros(shape=(len(x), len(y0)), dtype=np.float64)\n",
    "        y[0,:] = y0\n",
    "        h = np.median(np.diff(x))\n",
    "        \n",
    "        c2, a21 = 2./3., 2./3.\n",
    "        c3, a31, a32 = 2./3, 1./3., 1./3.\n",
    "        b1, b2, b3 = 1./4., 0., 3./4.\n",
    "        \n",
    "        for i in range(1, len(x)):\n",
    "            xold, xnew = x[i-1], x[i]\n",
    "            yold = y[i-1,:]\n",
    "            \n",
    "            Y2 = yold + a21*h*func(xold, yold)\n",
    "            Y3 = yold + a31*h*func(xold, yold) + a32*h*func(xold+c2*h, Y2)\n",
    "            ynew = yold + b1*h*func(xold, yold) + b2*h*func(xold+c2*h, Y2) + b3*h*func(xold+c3*h, Y3)\n",
    "            \n",
    "            y[i,:] = ynew\n",
    "        return x, y"
   ]
  },
  {
   "cell_type": "code",
   "execution_count": 7,
   "metadata": {},
   "outputs": [],
   "source": [
    "class RK32(BaseSolver):\n",
    "    @staticmethod\n",
    "    @njit\n",
    "    def _solve(func, xlim, y0, n_steps):\n",
    "        x = np.linspace(xlim[0], xlim[1], int(n_steps)).astype(np.float64)\n",
    "        y = np.zeros(shape=(len(x), len(y0)), dtype=np.float64)\n",
    "        y[0,:] = y0\n",
    "        h = np.median(np.diff(x))\n",
    "        \n",
    "        c2, a21 = 0.5, 0.5\n",
    "        c3, a31, a32 = 1., -1., 2.\n",
    "        b1, b2, b3 = 1./6., 2./3., 1./6.\n",
    "        \n",
    "        for i in range(1, len(x)):\n",
    "            xold, xnew = x[i-1], x[i]\n",
    "            yold = y[i-1,:]\n",
    "            \n",
    "            Y2 = yold + a21*h*func(xold, yold)\n",
    "            Y3 = yold + a31*h*func(xold, yold) + a32*h*func(xold+c2*h, Y2)\n",
    "            ynew = yold + b1*h*func(xold, yold) + b2*h*func(xold+c2*h, Y2) + b3*h*func(xold+c3*h, Y3)\n",
    "            \n",
    "            y[i,:] = ynew\n",
    "        return x, y"
   ]
  },
  {
   "cell_type": "markdown",
   "metadata": {},
   "source": [
    "#### RK41\n",
    "$$\n",
    "\\butcher{0 \\\\ c_2 & a_{21} \\\\ c_3 & a_{31} & a_{32} \\\\ c_4 & a_{41} & a_{42} & a_{43} }{b_1 & b_2 & b_3 & b_4}\n",
    "=\n",
    "\\butcher{0 \\\\ \\frac{1}{2} & \\frac{1}{2} \\\\ \\frac{1}{2} & 0 & \\frac{1}{2} \\\\ 1 & 0 & 0 & 1 }{\\frac{1}{6} & \\frac{1}{3} & \\frac{1}{3} & \\frac{1}{6}}\n",
    "$$\n",
    "\n",
    "#### RK42\n",
    "$$\n",
    "\\butcher{0 \\\\ c_2 & a_{21} \\\\ c_3 & a_{31} & a_{32} \\\\ c_4 & a_{41} & a_{42} & a_{43} }{b_1 & b_2 & b_3 & b_4}\n",
    "=\n",
    "\\butcher{0 \\\\ \\frac{1}{4} & \\frac{1}{4} \\\\ \\frac{1}{2} & 0 & \\frac{1}{2} \\\\ 1 & 1 & -2 & 2 }{\\frac{1}{6} & 0 & \\frac{2}{3} & \\frac{1}{6}}\n",
    "$$"
   ]
  },
  {
   "cell_type": "code",
   "execution_count": 8,
   "metadata": {},
   "outputs": [],
   "source": [
    "class RK41(BaseSolver):\n",
    "    @staticmethod\n",
    "    @njit\n",
    "    def _solve(func, xlim, y0, n_steps):\n",
    "        x = np.linspace(xlim[0], xlim[1], int(n_steps)).astype(np.float64)\n",
    "        y = np.zeros(shape=(len(x), len(y0)), dtype=np.float64)\n",
    "        y[0,:] = y0\n",
    "        h = np.median(np.diff(x))\n",
    "        \n",
    "        c2, a21 = 0.5, 0.5\n",
    "        c3, a31, a32 = 0.5, 0.0, 0.5\n",
    "        c4, a41, a42, a43 = 1.0, 0.0, 0.0, 1.0\n",
    "        b1, b2, b3, b4 = 1./6., 1./3., 1./3., 1./6.\n",
    "        \n",
    "        for i in range(1, len(x)):\n",
    "            xold, xnew = x[i-1], x[i]\n",
    "            yold = y[i-1,:]\n",
    "            \n",
    "            Y2 = yold + a21*h*func(xold, yold)\n",
    "            Y3 = yold + a31*h*func(xold, yold) + a32*h*func(xold+c2*h, Y2)\n",
    "            Y4 = yold + a41*h*func(xold, yold) + a42*h*func(xold+c2*h, Y2) + a43*h*func(xold+c3*h, Y3)\n",
    "            ynew = yold + b1*h*func(xold, yold) + b2*h*func(xold+c2*h, Y2) + b3*h*func(xold+c3*h, Y3) + b4*h*func(xold+c4*h, Y4)\n",
    "            \n",
    "            y[i,:] = ynew\n",
    "        return x, y"
   ]
  },
  {
   "cell_type": "code",
   "execution_count": 9,
   "metadata": {},
   "outputs": [],
   "source": [
    "class RK42(BaseSolver):\n",
    "    @staticmethod\n",
    "    @njit\n",
    "    def _solve(func, xlim, y0, n_steps):\n",
    "        x = np.linspace(xlim[0], xlim[1], int(n_steps)).astype(np.float64)\n",
    "        y = np.zeros(shape=(len(x), len(y0)), dtype=np.float64)\n",
    "        y[0,:] = y0\n",
    "        h = np.median(np.diff(x))\n",
    "        \n",
    "        c2, a21 = 0.25, 0.25\n",
    "        c3, a31, a32 = 0.5, 0.0, 0.5\n",
    "        c4, a41, a42, a43 = 1.0, 1.0, -2., 2.\n",
    "        b1, b2, b3, b4 = 1./6., 0., 2./3., 1./6.\n",
    "        \n",
    "        for i in range(1, len(x)):\n",
    "            xold, xnew = x[i-1], x[i]\n",
    "            yold = y[i-1,:]\n",
    "            \n",
    "            Y2 = yold + a21*h*func(xold, yold)\n",
    "            Y3 = yold + a31*h*func(xold, yold) + a32*h*func(xold+c2*h, Y2)\n",
    "            Y4 = yold + a41*h*func(xold, yold) + a42*h*func(xold+c2*h, Y2) + a43*h*func(xold+c3*h, Y3)\n",
    "            ynew = yold + b1*h*func(xold, yold) + b2*h*func(xold+c2*h, Y2) + b3*h*func(xold+c3*h, Y3) + b4*h*func(xold+c4*h, Y4)\n",
    "            \n",
    "            y[i,:] = ynew\n",
    "        return x, y"
   ]
  },
  {
   "cell_type": "markdown",
   "metadata": {},
   "source": [
    "#### RK5\n",
    "$$\n",
    "\\butcher{\n",
    "0 \\\\ \n",
    "c_2 & a_{21} \\\\ \n",
    "c_3 & a_{31} & a_{32} \\\\ \n",
    "c_4 & a_{41} & a_{42} & a_{43} \\\\ \n",
    "c_5 & a_{51} & a_{52} & a_{53} & a_{54} \\\\\n",
    "c_6 & a_{61} & a_{62} & a_{63} & a_{64} & a_{65}\n",
    "}{\n",
    "b_1 & b_2 & b_3 & b_4 & b_5 & b_6\n",
    "}\n",
    "=\n",
    "% \\butcher{0 \\\\ \\frac{1}{2} & \\frac{1}{2} \\\\ \\frac{1}{2} & 0 & \\frac{1}{2} \\\\ 1 & 0 & 0 & 1 }{\\frac{1}{6} & \\frac{1}{3} & \\frac{1}{3} & \\frac{1}{6}}\n",
    "\\butcher{\n",
    "0 \\\\\n",
    "\\frac{1}{4} & \\frac{1}{4} \\\\\n",
    "\\frac{1}{4} & \\frac{1}{8} & \\frac{1}{8} \\\\\n",
    "\\frac{1}{2} & 0 & 0 & \\frac{1}{2} \\\\\n",
    "\\frac{3}{4} & \\frac{3}{16} & -\\frac{3}{8} & \\frac{3}{8} & \\frac{9}{16} \\\\\n",
    "1 & -\\frac{3}{7} & \\frac{8}{7} & \\frac{6}{7} & -\\frac{12}{7} & \\frac{8}{7}\n",
    "}{\n",
    "\\frac{7}{90} & 0 & \\frac{32}{90} & \\frac{12}{90} & \\frac{32}{90} & \\frac{7}{90}\n",
    "}\n",
    "$$"
   ]
  },
  {
   "cell_type": "code",
   "execution_count": 10,
   "metadata": {},
   "outputs": [],
   "source": [
    "class RK5(BaseSolver):\n",
    "    @staticmethod\n",
    "    @njit\n",
    "    def _solve(func, xlim, y0, n_steps):\n",
    "        x = np.linspace(xlim[0], xlim[1], int(n_steps)).astype(np.float64)\n",
    "        y = np.zeros(shape=(len(x), len(y0)), dtype=np.float64)\n",
    "        y[0,:] = y0\n",
    "        h = np.median(np.diff(x))\n",
    "        \n",
    "        c2, a21 = 0.25, 0.25\n",
    "        c3, a31, a32 = 0.25, 0.125, 0.125\n",
    "        c4, a41, a42, a43 = 0.5, 0., 0., 0.5\n",
    "        c5, a51, a52, a53, a54 = 3./4., 3./16, -3./8, 3./8, 9./16\n",
    "        c6, a61, a62, a63, a64, a65 = 1.0, -3./7., 8./7., 6./7., -12./7., 8./7.\n",
    "        b1, b2, b3, b4, b5, b6 = 7./90., 0., 32./90., 12./90., 32./90., 7./90.\n",
    "        \n",
    "        for i in range(1, len(x)):\n",
    "            xold, xnew = x[i-1], x[i]\n",
    "            yold = y[i-1,:]\n",
    "            \n",
    "            Y2 = yold + a21*h*func(xold, yold)\n",
    "            Y3 = yold + a31*h*func(xold, yold) + a32*h*func(xold+c2*h, Y2)\n",
    "            Y4 = yold + a41*h*func(xold, yold) + a42*h*func(xold+c2*h, Y2) + a43*h*func(xold+c3*h, Y3)\n",
    "            Y5 = yold + a51*h*func(xold, yold) + a52*h*func(xold+c2*h, Y2) + a53*h*func(xold+c3*h, Y3) + a54*h*func(xold+c4*h, Y4)\n",
    "            Y6 = yold + a61*h*func(xold, yold) + a62*h*func(xold+c2*h, Y2) + a63*h*func(xold+c3*h, Y3) + a64*h*func(xold+c4*h, Y4) + a65*h*func(xold+c5*h, Y5)\n",
    "            ynew = yold + b1*h*func(xold, yold) + b2*h*func(xold+c2*h, Y2) + b3*h*func(xold+c3*h, Y3) + b4*h*func(xold+c4*h, Y4) + b5*h*func(xold+c5*h, Y5) + b6*h*func(xold+c6*h, Y6)\n",
    "            \n",
    "            y[i,:] = ynew\n",
    "        return x, y"
   ]
  },
  {
   "cell_type": "code",
   "execution_count": 11,
   "metadata": {},
   "outputs": [],
   "source": [
    "class Problem2:\n",
    "    def __init__(self, e=0.0):\n",
    "        self.e = e\n",
    "        \n",
    "        self.xlim = np.array([0.0, np.pi], dtype=np.float64)\n",
    "        self.y0 = np.array([1.-e, 0., 0., np.sqrt((1.+e)/(1.-e))], dtype=np.float64)\n",
    "        self.y_end_exact = np.array([-1.-e, 0., 0., -np.sqrt((1.-e)/(1.+e))], dtype=np.float64)\n",
    "        \n",
    "    def y0y1_exact(self, x):\n",
    "        e = self.e\n",
    "        r = (1.-e**2) / (1.+e*np.cos(x))\n",
    "#         y_exact = np.vstack([r*np.cos(x), r*np.sin(x)]).T\n",
    "        y0_exact = r*np.cos(x)\n",
    "        y1_exact = r*np.sin(x)\n",
    "        return y0_exact, y1_exact\n",
    "    \n",
    "    @staticmethod\n",
    "    @njit\n",
    "    def func(x, y):\n",
    "        C = (y[0]**2 + y[1]**2)**(-3./2.)\n",
    "        dydx = np.array([\n",
    "             y[2],\n",
    "             y[3],\n",
    "            -y[0]*C,\n",
    "            -y[1]*C,\n",
    "        ], dtype=np.float64)\n",
    "        return dydx"
   ]
  },
  {
   "cell_type": "code",
   "execution_count": 12,
   "metadata": {},
   "outputs": [
    {
     "name": "stdout",
     "output_type": "stream",
     "text": [
      "Wall time: 2.78 s\n"
     ]
    }
   ],
   "source": [
    "problem = Problem2(e=0.5)\n",
    "n_steps = 10\n",
    "%time solver = Euler(func=problem.func, xlim=problem.xlim, y0=problem.y0, n_steps=n_steps).solve()"
   ]
  },
  {
   "cell_type": "code",
   "execution_count": 13,
   "metadata": {},
   "outputs": [
    {
     "name": "stdout",
     "output_type": "stream",
     "text": [
      "Wall time: 813 ms\n",
      "Wall time: 870 ms\n"
     ]
    }
   ],
   "source": [
    "%time solver21 = RK21(func=problem.func, xlim=problem.xlim, y0=problem.y0, n_steps=n_steps).solve()\n",
    "%time solver22 = RK22(func=problem.func, xlim=problem.xlim, y0=problem.y0, n_steps=n_steps).solve()"
   ]
  },
  {
   "cell_type": "code",
   "execution_count": 14,
   "metadata": {},
   "outputs": [
    {
     "name": "stdout",
     "output_type": "stream",
     "text": [
      "Wall time: 898 ms\n",
      "Wall time: 959 ms\n"
     ]
    }
   ],
   "source": [
    "%time solver31 = RK31(func=problem.func, xlim=problem.xlim, y0=problem.y0, n_steps=n_steps).solve()\n",
    "%time solver32 = RK32(func=problem.func, xlim=problem.xlim, y0=problem.y0, n_steps=n_steps).solve()"
   ]
  },
  {
   "cell_type": "code",
   "execution_count": 15,
   "metadata": {},
   "outputs": [
    {
     "name": "stdout",
     "output_type": "stream",
     "text": [
      "Wall time: 1.04 s\n",
      "Wall time: 1.12 s\n",
      "Wall time: 1.51 s\n"
     ]
    }
   ],
   "source": [
    "%time solver41 = RK41(func=problem.func, xlim=problem.xlim, y0=problem.y0, n_steps=n_steps).solve()\n",
    "%time solver42 = RK42(func=problem.func, xlim=problem.xlim, y0=problem.y0, n_steps=n_steps).solve()\n",
    "%time solver5 = RK5(func=problem.func, xlim=problem.xlim, y0=problem.y0, n_steps=n_steps).solve()"
   ]
  },
  {
   "cell_type": "code",
   "execution_count": 16,
   "metadata": {},
   "outputs": [
    {
     "data": {
      "image/png": "[encoded data removed]",
      "text/plain": [
       "<Figure size 900x600 with 1 Axes>"
      ]
     },
     "metadata": {
      "needs_background": "light"
     },
     "output_type": "display_data"
    }
   ],
   "source": [
    "fig, ax = plt.subplots(dpi=150)\n",
    "ax.plot(solver.y[:,0], solver.y[:,1], label=\"Euler\")\n",
    "ax.plot(solver21.y[:,0], solver21.y[:,1], label=\"RK21\")\n",
    "ax.plot(solver22.y[:,0], solver22.y[:,1], label=\"RK22\")\n",
    "ax.plot(solver31.y[:,0], solver31.y[:,1], label=\"RK31\")\n",
    "ax.plot(solver32.y[:,0], solver32.y[:,1], label=\"RK32\")\n",
    "ax.plot(solver41.y[:,0], solver41.y[:,1], label=\"RK41\")\n",
    "ax.plot(solver42.y[:,0], solver42.y[:,1], label=\"RK42\")\n",
    "ax.plot(solver5.y[:,0], solver5.y[:,1], label=\"RK5\")\n",
    "\n",
    "y0exact, y1exact = problem.y0y1_exact(solver.x)\n",
    "ax.plot(y0exact, y1exact, 'k--', label='exact')\n",
    "\n",
    "ax.set_title(f\"n={solver.n_steps}\")\n",
    "ax.set_xlim(-3, 1.2)\n",
    "# ax.set_ylim(-0.2, 1.2)\n",
    "ax.legend()\n",
    "ax.grid(which='both')\n",
    "ax.set_aspect('equal')"
   ]
  },
  {
   "cell_type": "code",
   "execution_count": 17,
   "metadata": {},
   "outputs": [
    {
     "name": "stdout",
     "output_type": "stream",
     "text": [
      "Euler\n",
      "Euler 10:Wall time: 829 ms\n",
      "Euler 31:Wall time: 0 ns\n",
      "Euler 100:Wall time: 0 ns\n",
      "Euler 316:Wall time: 0 ns\n",
      "Euler 1000:Wall time: 0 ns\n",
      "Euler 3162:Wall time: 1.01 ms\n",
      "Euler 10000:Wall time: 2 ms\n",
      "Euler 31622:Wall time: 8.94 ms\n",
      "Euler 100000:Wall time: 27 ms\n",
      "Euler 316227:Wall time: 84.7 ms\n",
      "Euler 1000000:Wall time: 259 ms\n",
      "RK21\n",
      "RK21 10:Wall time: 874 ms\n",
      "RK21 31:Wall time: 978 µs\n",
      "RK21 100:Wall time: 0 ns\n",
      "RK21 316:Wall time: 1.01 ms\n",
      "RK21 1000:Wall time: 996 µs\n",
      "RK21 3162:Wall time: 3 ms\n",
      "RK21 10000:Wall time: 6.97 ms\n",
      "RK21 31622:Wall time: 19 ms\n",
      "RK21 100000:Wall time: 61.8 ms\n",
      "RK21 316227:Wall time: 197 ms\n",
      "RK21 1000000:Wall time: 620 ms\n",
      "RK22\n",
      "RK22 10:Wall time: 819 ms\n",
      "RK22 31:Wall time: 0 ns\n",
      "RK22 100:Wall time: 0 ns\n",
      "RK22 316:Wall time: 0 ns\n",
      "RK22 1000:Wall time: 997 µs\n",
      "RK22 3162:Wall time: 1.99 ms\n",
      "RK22 10000:Wall time: 6.98 ms\n",
      "RK22 31622:Wall time: 18.9 ms\n",
      "RK22 100000:Wall time: 60.8 ms\n",
      "RK22 316227:Wall time: 194 ms\n",
      "RK22 1000000:Wall time: 630 ms\n",
      "RK31\n",
      "RK31 10:Wall time: 969 ms\n",
      "RK31 31:Wall time: 998 µs\n",
      "RK31 100:Wall time: 0 ns\n",
      "RK31 316:Wall time: 0 ns\n",
      "RK31 1000:Wall time: 997 µs\n",
      "RK31 3162:Wall time: 3.02 ms\n",
      "RK31 10000:Wall time: 10.9 ms\n",
      "RK31 31622:Wall time: 33.9 ms\n",
      "RK31 100000:Wall time: 110 ms\n",
      "RK31 316227:Wall time: 350 ms\n",
      "RK31 1000000:Wall time: 1.11 s\n",
      "RK32\n",
      "RK32 10:Wall time: 917 ms\n",
      "RK32 31:Wall time: 0 ns\n",
      "RK32 100:Wall time: 997 µs\n",
      "RK32 316:Wall time: 0 ns\n",
      "RK32 1000:Wall time: 995 µs\n",
      "RK32 3162:Wall time: 3.02 ms\n",
      "RK32 10000:Wall time: 10.9 ms\n",
      "RK32 31622:Wall time: 35.9 ms\n",
      "RK32 100000:Wall time: 110 ms\n",
      "RK32 316227:Wall time: 345 ms\n",
      "RK32 1000000:Wall time: 1.1 s\n",
      "RK41\n",
      "RK41 10:Wall time: 1.1 s\n",
      "RK41 31:Wall time: 0 ns\n",
      "RK41 100:Wall time: 0 ns\n",
      "RK41 316:Wall time: 0 ns\n",
      "RK41 1000:Wall time: 2 ms\n",
      "RK41 3162:Wall time: 4.99 ms\n",
      "RK41 10000:Wall time: 17 ms\n",
      "RK41 31622:Wall time: 53.8 ms\n",
      "RK41 100000:Wall time: 170 ms\n",
      "RK41 316227:Wall time: 546 ms\n",
      "RK41 1000000:Wall time: 1.73 s\n",
      "RK42\n",
      "RK42 10:Wall time: 1.11 s\n",
      "RK42 31:Wall time: 0 ns\n",
      "RK42 100:Wall time: 0 ns\n",
      "RK42 316:Wall time: 997 µs\n",
      "RK42 1000:Wall time: 1.99 ms\n",
      "RK42 3162:Wall time: 5.98 ms\n",
      "RK42 10000:Wall time: 18 ms\n",
      "RK42 31622:Wall time: 54.9 ms\n",
      "RK42 100000:Wall time: 179 ms\n",
      "RK42 316227:Wall time: 554 ms\n",
      "RK42 1000000:Wall time: 1.74 s\n",
      "RK5\n",
      "RK5 10:Wall time: 1.44 s\n",
      "RK5 31:Wall time: 0 ns\n",
      "RK5 100:Wall time: 0 ns\n",
      "RK5 316:Wall time: 998 µs\n",
      "RK5 1000:Wall time: 4.02 ms\n",
      "RK5 3162:Wall time: 11 ms\n",
      "RK5 10000:Wall time: 36.4 ms\n",
      "RK5 31622:Wall time: 107 ms\n",
      "RK5 100000:Wall time: 342 ms\n",
      "RK5 316227:Wall time: 1.07 s\n",
      "RK5 1000000:Wall time: 3.43 s\n"
     ]
    }
   ],
   "source": [
    "solvers = dict(Euler=Euler, RK21=RK21, RK22=RK22, RK31=RK31, RK32=RK32, RK41=RK41, RK42=RK42, RK5=RK5)\n",
    "results = dict()\n",
    "for name, Solver in solvers.items():\n",
    "    print(name)\n",
    "    ns, errors = [], []\n",
    "    for n_steps in (10.**np.arange(1, 6.1, 0.5)).astype(int):\n",
    "        print(name, n_steps, end=':')\n",
    "        %time solver1 = Solver(func=problem.func, xlim=problem.xlim, y0=problem.y0, n_steps=n_steps).solve()\n",
    "        \n",
    "        ns.append(solver1.n_steps)\n",
    "        errors.append(np.linalg.norm(problem.y_end_exact - solver1.y[-1,:]))\n",
    "    ns, errors = np.array(ns), np.array(errors)\n",
    "    results.update({name: dict(ns=ns, errors=errors)})"
   ]
  },
  {
   "cell_type": "code",
   "execution_count": 18,
   "metadata": {},
   "outputs": [
    {
     "data": {
      "text/plain": [
       "<matplotlib.legend.Legend at 0x20df59e7308>"
      ]
     },
     "execution_count": 18,
     "metadata": {},
     "output_type": "execute_result"
    },
    {
     "data": {
      "image/png": "[encoded data removed]",
      "text/plain": [
       "<Figure size 432x288 with 1 Axes>"
      ]
     },
     "metadata": {
      "needs_background": "light"
     },
     "output_type": "display_data"
    }
   ],
   "source": [
    "fig, ax = plt.subplots()\n",
    "for name, res in results.items():\n",
    "    ns1, errors1 = res['ns'], res['errors']\n",
    "    ax.loglog(1./ns1, errors1, '.-', label=name)\n",
    "ax.set_xlabel(r'$n^{-1}$')\n",
    "ax.set_ylabel('Error')\n",
    "ax.grid(which='both')\n",
    "ax.legend()"
   ]
  },
  {
   "cell_type": "code",
   "execution_count": null,
   "metadata": {},
   "outputs": [],
   "source": []
  }
 ],
 "metadata": {
  "kernelspec": {
   "display_name": "Python 3",
   "language": "python",
   "name": "python3"
  },
  "language_info": {
   "codemirror_mode": {
    "name": "ipython",
    "version": 3
   },
   "file_extension": ".py",
   "mimetype": "text/x-python",
   "name": "python",
   "nbconvert_exporter": "python",
   "pygments_lexer": "ipython3",
   "version": "3.7.5"
  }
 },
 "nbformat": 4,
 "nbformat_minor": 4
}
